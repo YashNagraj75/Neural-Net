{
  "cells": [
    {
      "cell_type": "code",
      "execution_count": null,
      "metadata": {
        "id": "obDF-QvywLpG"
      },
      "outputs": [],
      "source": [
        "!pip install anthropic"
      ]
    },
    {
      "cell_type": "code",
      "execution_count": 2,
      "metadata": {
        "id": "rSOkWWLu8oC1"
      },
      "outputs": [],
      "source": [
        "from anthropic import Anthropic\n",
        "import os"
      ]
    },
    {
      "cell_type": "code",
      "execution_count": 3,
      "metadata": {
        "id": "A-tQrNlY-Nv5"
      },
      "outputs": [],
      "source": [
        "from google.colab import userdata\n"
      ]
    },
    {
      "cell_type": "code",
      "execution_count": 4,
      "metadata": {
        "id": "Nw8lwscO82ss"
      },
      "outputs": [],
      "source": [
        "client = Anthropic(\n",
        "    api_key = userdata.get('ANTHROPIC_API_KEY')\n",
        ")"
      ]
    },
    {
      "cell_type": "code",
      "execution_count": 5,
      "metadata": {
        "colab": {
          "base_uri": "https://localhost:8080/"
        },
        "id": "VPQUzJeB9YQk",
        "outputId": "f8d2f05d-5962-4b25-cf6a-9e2e80f81e25"
      },
      "outputs": [
        {
          "output_type": "stream",
          "name": "stdout",
          "text": [
            "ContentBlock(text='I apologize, but I do not have access to real-time weather data. As an AI language model, I don\\'t have the ability to retrieve current weather information for specific locations. However, you can easily find the current temperature in Delhi by using a weather app or website that provides real-time weather updates, such as Google Weather, AccuWeather, or The Weather Channel. Simply search for \"Delhi weather\" on any of these platforms to get the most up-to-date information on the current temperature and other weather conditions in the city.', type='text')\n"
          ]
        }
      ],
      "source": [
        "test = {\n",
        "    \"role\" : \"user\",\n",
        "    \"content\": \"What is the current temperature in Delhi\"\n",
        "}\n",
        "\n",
        "message = client.messages.create(\n",
        "    model = \"claude-3-opus-20240229\",\n",
        "    max_tokens = 1024,\n",
        "    temperature = 0.1,\n",
        "    messages = [test]\n",
        ")\n",
        "\n",
        "print(message.content[0])"
      ]
    },
    {
      "cell_type": "code",
      "execution_count": 6,
      "metadata": {
        "id": "Ez2ScylI-Hxa"
      },
      "outputs": [],
      "source": [
        "def dollar_price(currency):\n",
        "  return 82.75"
      ]
    },
    {
      "cell_type": "code",
      "source": [
        "func = \"\"\"\n",
        "{\n",
        " \"tool_description\": {\n",
        "      \"tool_name\" : \"dollar_price\",\n",
        "      \"description\" : \"Gives the latest dollar price\",\n",
        "      \"parameters\":{\n",
        "          \"currency\": {\n",
        "            \"type\" : string\n",
        "          }\n",
        "      }\n",
        " }\n",
        "}\n",
        "\"\"\""
      ],
      "metadata": {
        "id": "kp-UD3F3YqyP"
      },
      "execution_count": 7,
      "outputs": []
    },
    {
      "cell_type": "code",
      "execution_count": 8,
      "metadata": {
        "id": "x_ddidWRCU0e",
        "colab": {
          "base_uri": "https://localhost:8080/"
        },
        "outputId": "82d9fb6c-5d37-403b-887b-b41e8413d3b4"
      },
      "outputs": [
        {
          "output_type": "stream",
          "name": "stdout",
          "text": [
            "\n",
            "You have access to an additional set of one or more functions you can use to answer the user's question.\n",
            "\n",
            "You may call them like this:\n",
            "{\n",
            "  \"function_calls\":{\n",
            "    \"invoke\": [\n",
            "      {\"tool_name\": $TOOL_NAME,\n",
            "      \"parameters\": $PARAMETER_VALUE},\n",
            "\n",
            "      {\"tool_name\": $TOOL_NAME,\n",
            "      \"parameters\": $PARAMETER_VALUE}\n",
            "    ]\n",
            "  }\n",
            "}\n",
            "\n",
            "Here are the tools available:\n",
            "{\n",
            "  \"tools\":\n",
            "{\n",
            " \"tool_description\": {\n",
            "      \"tool_name\" : \"dollar_price\",\n",
            "      \"description\" : \"Gives the latest dollar price\",\n",
            "      \"parameters\":{\n",
            "          \"currency\": {\n",
            "            \"type\" : string\n",
            "          }\n",
            "      }\n",
            " }\n",
            "}\n",
            "\n",
            "}\n",
            "Your final answer should be in the form the \"The current dollar price is {price} {currency}\n",
            "\n",
            "\n"
          ]
        }
      ],
      "source": [
        "system_prompt = \"\"\"\n",
        "You have access to an additional set of one or more functions you can use to answer the user's question.\n",
        "\n",
        "You may call them like this:\n",
        "{{\n",
        "  \"function_calls\":{{\n",
        "    \"invoke\": [\n",
        "      {{\"tool_name\": $TOOL_NAME,\n",
        "      \"parameters\": $PARAMETER_VALUE}},\n",
        "\n",
        "      {{\"tool_name\": $TOOL_NAME,\n",
        "      \"parameters\": $PARAMETER_VALUE}}\n",
        "    ]\n",
        "  }}\n",
        "}}\n",
        "\n",
        "Here are the tools available:\n",
        "{{\n",
        "  \"tools\":{func}\n",
        "}}\n",
        "Your final answer should be in the form the \"The current dollar price is {{price}} {{currency}}\n",
        "\n",
        "\"\"\".format(func=func)\n",
        "\n",
        "print(system_prompt)\n"
      ]
    },
    {
      "cell_type": "code",
      "execution_count": 9,
      "metadata": {
        "colab": {
          "base_uri": "https://localhost:8080/"
        },
        "id": "LUk5ZhKDDI6J",
        "outputId": "7af7ed42-177c-4f9a-9eae-370bec361a9b"
      },
      "outputs": [
        {
          "output_type": "stream",
          "name": "stdout",
          "text": [
            "{\n",
            "  \"function_calls\":{\n",
            "    \"invoke\": [\n",
            "      {\"tool_name\": \"dollar_price\",\n",
            "      \"parameters\": {\"currency\": \"INR\"}}\n",
            "    ]\n",
            "  }\n",
            "}\n"
          ]
        }
      ],
      "source": [
        "message = client.messages.create(\n",
        "    model = \"claude-3-opus-20240229\",\n",
        "    max_tokens = 1024,\n",
        "    temperature = 0.0,\n",
        "    system = system_prompt,\n",
        "    messages = [\n",
        "        {\"role\": \"user\",\n",
        "        \"content\": \"What is the current dollar price in INR\"}]\n",
        ")\n",
        "\n",
        "print(message.content[0].text)"
      ]
    },
    {
      "cell_type": "code",
      "execution_count": 11,
      "metadata": {
        "id": "JftoLfpQEIrC"
      },
      "outputs": [],
      "source": [
        "import json\n",
        "def info(sample):\n",
        "  format = json.loads(sample)\n",
        "  currency = format['function_calls']['invoke'][0]['parameters']['currency']\n",
        "  tool_name = format['function_calls']['invoke'][0]['tool_name']\n",
        "  return tool_name,currency"
      ]
    },
    {
      "cell_type": "code",
      "execution_count": 12,
      "metadata": {
        "id": "Nzm1tkZTEVWa"
      },
      "outputs": [],
      "source": [
        "tool_name,currency = info(message.content[0].text)"
      ]
    },
    {
      "cell_type": "code",
      "source": [
        "def construct_injection_prompt(invoke_results):\n",
        "  construct_prompt = \"\"\"\n",
        "  {{\n",
        "    \"function_results\": {{\n",
        "      \"results\": [\n",
        "        {tool_name}\n",
        "      ]\n",
        "    }}\n",
        "  }}\n",
        "  \"\"\"\n",
        "\n",
        "\n",
        "  res_strings = [json.dumps({\n",
        "\n",
        "    \"tool_name\": res['tool_name'],\n",
        "    \"tool_result\": res['tool_result']}) for res in invoke_results]\n",
        "\n",
        "  res_list_string = \"\".join(res_strings).strip()\n",
        "\n",
        "  construct_prompt = construct_prompt.format(tool_name=res_list_string)\n",
        "\n",
        "  return construct_prompt\n",
        "\n",
        "formatted_results = [{\n",
        "    'tool_name': tool_name,\n",
        "    'tool_result': currency\n",
        "}]\n",
        "\n",
        "func_results = construct_injection_prompt(formatted_results)\n"
      ],
      "metadata": {
        "id": "ds-fQXGSaTHo"
      },
      "execution_count": 26,
      "outputs": []
    },
    {
      "cell_type": "code",
      "source": [
        "partial_assistant_message = message.content[0].text + \"{function_calls}\" + func_results\n",
        "\n",
        "final_message = client.messages.create(\n",
        "    model=\"claude-3-opus-20240229\",\n",
        "    max_tokens=1024,\n",
        "    messages=[\n",
        "        {\n",
        "            \"role\": \"user\",\n",
        "            \"content\": \"What is the current price of dollar in INR\"\n",
        "        },\n",
        "        {\n",
        "            \"role\": \"assistant\",\n",
        "            \"content\": partial_assistant_message.strip()\n",
        "        }\n",
        "    ],\n",
        "    system=system_prompt,\n",
        "    stop_sequences=[\"\\n\\nHuman:\", \"\\n\\nAssistant\", \"{function_calls}\"]\n",
        ").content[0].text\n",
        "\n",
        "print(final_message)"
      ],
      "metadata": {
        "id": "dd2Rz3PKfFnd",
        "colab": {
          "base_uri": "https://localhost:8080/"
        },
        "outputId": "3ba1e9e4-f35a-444b-8bb4-3d4f4029f626"
      },
      "execution_count": 30,
      "outputs": [
        {
          "output_type": "stream",
          "name": "stdout",
          "text": [
            "\n",
            "\n",
            "The current dollar price is 82.25 INR\n"
          ]
        }
      ]
    },
    {
      "cell_type": "code",
      "source": [],
      "metadata": {
        "id": "uQwjOsHgAhKg"
      },
      "execution_count": 28,
      "outputs": []
    }
  ],
  "metadata": {
    "colab": {
      "provenance": []
    },
    "kernelspec": {
      "display_name": "Python 3",
      "name": "python3"
    },
    "language_info": {
      "name": "python"
    }
  },
  "nbformat": 4,
  "nbformat_minor": 0
}